{
 "cells": [
  {
   "cell_type": "markdown",
   "metadata": {},
   "source": [
    "# Project proposal\n",
    "\n",
    "---\n",
    "\n",
    "Group name: D\n",
    "\n",
    "---\n"
   ]
  },
  {
   "cell_type": "markdown",
   "metadata": {},
   "source": [
    "## Introduction\n",
    "\n",
    "The introduction section includes\n",
    "\n",
    "-   an introduction to the subject matter you're investigating: Die Quote der Erwerbslosen ist deutschlandweit von Interesse. Daher soll im Rahmen dieses Projektes untersucht werden, mit welchen soziodemographischen Merkmalen die Erwerbslosigkeit beziehungsweise Erwerbstätigkeit assoziiert.\n",
    "\n",
    "-   the motivation for your research question (citing any relevant literature)\n",
    "-   the general research question you wish to explore\n",
    "-   your hypotheses regarding the research question of interest."
   ]
  },
  {
   "cell_type": "markdown",
   "metadata": {},
   "source": [
    "\n",
    "## Data description\n",
    "\n",
    "In this section, you will describe the data set you wish to explore. This includes\n",
    "\n",
    "-   description of the observations in the data set,\n",
    "\n",
    "\n",
    "-   description of how the data was originally collected (not how you found the data but how the original curator of the data collected it).\n",
    "\n",
    "Die Daten stammen aus der Zensus Umfrage, welche 2011 durchgeführt wurde. Der Zensusstichtag war der 09. Mai 2011. Der Zensus ist eine gesetzlich angeordnete Erhebung statistischer Bevölkerungsdaten. Dabei handelt es sich um einen registergestützten Zensus. Das bedeutet, es müssen nicht wie bei einer traditionellen Volkszählung alle Bürgerinnen und Bürger befragt werden, da die meisten Daten bereits in den Registern der Verwaltung vorliegen, etwa im Einwohnermeldeamt.\n",
    "Um Ungenauigkeiten in der Statistik herauszurechnen, werden weniger als zehn Prozent der Bevölkerung in einem kurzen Interview befragt. Diese Stichprobenbefragung ist außerdem notwendig, um Daten zu erheben, die nicht in den Registern vorliegen, wie z.B. Angaben zu Bildung und Ausbildung oder zur Erwerbstätigkeit.\n",
    "Da es für Wohnungen und Gebäude auch keine flächendeckenden Register gibt, werden die etwa 17,5 Mio. Besitzerinnen und Besitzer von Eigentumswohnungen oder Wohngebäuden in Deutschland postalisch befragt. Eine weitere Befragung betrifft Wohnheime (z.B. Studierendenwohnheime) und Gemeinschaftsunterkünfte (z.B. Alten-/Pflegeheime und Kinder-/Jugendheime). An diesen Anschriften sind die Register besonders ungenau, weil es häufig zu Umzügen kommt.\n",
    "Nichtsdestotrotz liefert der registergestützte Zensus verlässliche Ergebnisse für ganz Deutschland, obwohl nicht alle Menschen in Deutschland befragt werden.\n"
   ]
  },
  {
   "cell_type": "markdown",
   "metadata": {},
   "source": [
    "\n",
    "## Analysis approach\n",
    "\n",
    "In this section, you will provide a brief overview of your analysis approach. This includes:\n",
    "\n",
    "-   Description of the response variable.\n",
    "-   Visualization and summary statistics for the response variable.\n",
    "-   List of variables that will be considered as predictors\n",
    "-   Your model type (what kind of model(s) will you use ... e.g. linear regression)"
   ]
  },
  {
   "cell_type": "markdown",
   "metadata": {},
   "source": [
    "## Data dictionary\n",
    "\n",
    "*Create a data dictionary for all the variables in your data set. You may fill out the data description table or create your own table with Pandas:*\n",
    "\n",
    "<br>\n",
    "\n",
    "\n",
    "| Name  |   Description\t| Role   \t| Type   \t|  Format \t|\n",
    "|---\t|---\t        |---    \t|---\t    |---\t|\n",
    "|   \t|   \t        |   \t    |   \t    |   \t|\n",
    "|   \t|   \t        |   \t    |   \t    |   \t|\n",
    "|   \t|   \t        |   \t    |   \t    |   \t|\n",
    "\n",
    "\n",
    "<br>\n",
    "\n",
    "- `Role`: response, predictor, ID (ID columns are not used in a model but can help to better understand the data)\n",
    "\n",
    "- `Type`: nominal, ordinal or numeric\n",
    "\n",
    "- `Format`: int, float, string, category, date or object"
   ]
  }
 ],
 "metadata": {
  "kernelspec": {
   "display_name": "Python 3.9.13 ('base')",
   "language": "python",
   "name": "python3"
  },
  "language_info": {
   "name": "python",
   "version": "3.9.13"
  },
  "orig_nbformat": 4,
  "vscode": {
   "interpreter": {
    "hash": "05f00980bbfca45a2d19a89889c6a03d79b0424b9c6ea7450ce77ead4786b2df"
   }
  }
 },
 "nbformat": 4,
 "nbformat_minor": 2
}
