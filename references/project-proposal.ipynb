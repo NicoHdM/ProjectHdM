{
 "cells": [
  {
   "cell_type": "markdown",
   "metadata": {},
   "source": [
    "# Project proposal\n",
    "\n",
    "---\n",
    "\n",
    "Group name: D\n",
    "\n",
    "---\n"
   ]
  },
  {
   "cell_type": "markdown",
   "metadata": {},
   "source": [
    "## Introduction\n",
    "\n",
    "The introduction section includes\n",
    "\n",
    "-   an introduction to the subject matter you're investigating: <br>\n",
    "Die Arbeitslosigkeit ist ein Indikator für die Situation auf dem Arbeitsmarkt. Die Zahl der Erwerbslosen gibt Auskunft über die Arbeitslosigkeit und ist nicht nur deutschlandweit von Interesse. Im Rahmen dieses Projektes soll untersucht werden, mit welchen soziodemographischen Merkmalen die Erwerbslosigkeit beziehungsweise Erwerbstätigkeit in Deutschland assoziiert.\n",
    "\n",
    "-   the motivation for your research question: <br>\n",
    "Wie in der Introduction erwähnt, ist die Zahl der Erwerbslosen eine Auskunft über die Arbeitslosigkeit im Allgemeinen. *(vgl. Sauermann, Jan (2005) : Registrierte Arbeitslosigkeit oder Erwerbslosigkeit: Gibt es das bessere Messkonzept?)*.\n",
    "Laut der Bundeszentrale für politische Bildung, ist die Arbeitslosenquote bei Ausländer höher, als bei den deutschen Erwerbspersonen. *(vgl. Arbeitslosenquoten nach Geschlecht und Staatsangehoerigkeit, bpb, 2021)*. Zudem gilt laut der Bundeszentrale für politische Bildung, dass mit einem höheren Bildungsstand, das Risiko arbeitslos zu werden, geringer ist. *(vgl. Arbeitslosenquoten nach Bildung und Alter, bpb, 2021)*. Die beiden Aussagen motivieren uns, diese anhand der Zensus-Daten aus dem Jahr 2011 nachzuvollziehen beziehungsweise zu widerlegen.\n",
    "\n",
    "-   the general research question you wish to explore <br>\n",
    "Mithilfe des Projekts soll folgende Frage untersucht werden: **Gibt es einen Zusammenhang zwischen den soziodemografischen Merkmalen\n",
    "und der Arbeitslosenrate?**\n",
    "\n",
    "-   your hypotheses regarding the research question of interest: <br>\n",
    "Unserer Meinung nach gibt es je nach *Explanatory Varibale* einen Zusammenhang. Den vermutlich stärksten positiven Zusammenhang wird es zwischen Schulabschluss/Bildungsstand, Migrationshintergrund und Alter geben.<br><br>\n",
    "\n"
   ]
  },
  {
   "attachments": {},
   "cell_type": "markdown",
   "metadata": {},
   "source": [
    "\n",
    "## Data description\n",
    "\n",
    "In this section, you will describe the data set you wish to explore. This includes\n",
    "\n",
    "-   description of the observations in the data set,\n",
    "\n",
    "Der ursprüngliche Datensatz enthält 12.543 Zeilen sowie 224 Spalten (noch reduzieren aufs Wesentliche). 55 Spalten wurden als Float, 19 Spalten als Integer und 150 Spalten als Object identifiziert. \n",
    "\n",
    "Zudem haben nicht alle Gemeinden vollständige Angaben zu den soziodemografischen Variablen, da vor allem kleinere Gemeinden nicht alle Informationen bereitstellen können, wie z.B. Angaben zum Migrationshintergrund. Beispielsweise sind zu der Gemeinde Buchholz weder Angaben zu Personen ohne Hintergrund noch zu Personen ohne Hintergrund hinterlegt.\n",
    "\n",
    "Für das weitere Vorgehen, wird der ursprüngliche Datensatz, um Spalten, welche für das Projekt nicht relevant sind gekürzt damit der Datensatz übersichtlicher wird.  \n",
    "\n",
    "\n",
    "-   description of how the data was originally collected (not how you found the data but how the original curator of the data collected it).\n",
    "\n",
    "Die Daten stammen aus der Zensus Umfrage, welche 2011 durchgeführt wurde. Der Zensusstichtag war der 09. Mai 2011. Der Zensus ist eine gesetzlich angeordnete Erhebung statistischer Bevölkerungsdaten. Dabei handelt es sich um einen registergestützten Zensus. Das bedeutet, es müssen nicht wie bei einer traditionellen Volkszählung alle Bürgerinnen und Bürger befragt werden, da die meisten Daten bereits in den Registern der Verwaltung vorliegen, etwa im Einwohnermeldeamt.\n",
    "Um Ungenauigkeiten in der Statistik herauszurechnen, werden weniger als zehn Prozent der Bevölkerung in einem kurzen Interview befragt. Diese Stichprobenbefragung ist außerdem notwendig, um Daten zu erheben, die nicht in den Registern vorliegen, wie z.B. Angaben zu Bildung und Ausbildung oder zur Erwerbstätigkeit.\n",
    "Da es für Wohnungen und Gebäude auch keine flächendeckenden Register gibt, werden die etwa 17,5 Mio. Besitzerinnen und Besitzer von Eigentumswohnungen oder Wohngebäuden in Deutschland postalisch befragt. Eine weitere Befragung betrifft Wohnheime (z.B. Studierendenwohnheime) und Gemeinschaftsunterkünfte (z.B. Alten-/Pflegeheime und Kinder-/Jugendheime). An diesen Anschriften sind die Register besonders ungenau, weil es häufig zu Umzügen kommt.\n",
    "Nichtsdestotrotz liefert der registergestützte Zensus verlässliche Ergebnisse für ganz Deutschland, obwohl nicht alle Menschen in Deutschland befragt werden.\n"
   ]
  },
  {
   "attachments": {},
   "cell_type": "markdown",
   "metadata": {},
   "source": [
    "\n",
    "## Analysis approach\n",
    "\n",
    "In this section, you will provide a brief overview of your analysis approach. This includes:\n",
    "\n",
    "-   Description of the response variable.\n",
    "\n",
    "«Arbeitslosenquoten zeigen die relative Unterauslastung des Arbeitskräfteangebots an, indem sie die (registrierten) Arbeitslosen zu den Erwerbspersonen (EP = Erwerbstätige + Arbeitslose) in Beziehung setzen.» Um die Antwort Variable berechnen zu können, benötigen wir in unserem Dataset die Spalten mit der Spaltenbezeichnung «Erwerbstätige zusammen» sowie «Erwerbslose zusammen». \n",
    "\n",
    "-   Visualization and summary statistics for the response variable.\n",
    "-   List of variables that will be considered as predictors\n",
    "\n",
    "Migrationshintergrund,\n",
    "Religionszugehörigkeit,\n",
    "Alter,\n",
    "Altersgruppe,\n",
    "Schulabschluss/Bildungsgrad,\n",
    "Familienstand\n",
    "\n",
    "\n",
    "-   Your model type (what kind of model(s) will you use ... e.g. linear regression)\n",
    "\n",
    "Bei den numerischen Werten, wie Alter, werden wir ein Lineares Regressionsmodell verwenden. \n",
    "\n",
    "Bei den kategorialen Werten, wie z.B. Religionszugehörigkeit, Migrationshintergrund, Familienstand und Schulabschluss, werden wir die Ergebnisse in einem Boxplot darstellen. Auf der Y-Achse wird die Arbeitslosenrate und auf der X-Achse die multiplen Kategorien dargestellt.   \n"
   ]
  },
  {
   "cell_type": "markdown",
   "metadata": {},
   "source": [
    "## Data dictionary\n",
    "\n",
    "*Create a data dictionary for all the variables in your data set. You may fill out the data description table or create your own table with Pandas:*\n",
    "\n",
    "<br>\n",
    "\n",
    "\n",
    "| Name  |   Description\t| Role   \t| Type   \t|  Format \t|\n",
    "|---\t|---\t        |---    \t|---\t    |---\t|\n",
    "|   \t|   \t        |   \t    |   \t    |   \t|\n",
    "|   \t|   \t        |   \t    |   \t    |   \t|\n",
    "|   \t|   \t        |   \t    |   \t    |   \t|\n",
    "\n",
    "\n",
    "<br>\n",
    "\n",
    "- `Role`: response, predictor, ID (ID columns are not used in a model but can help to better understand the data)\n",
    "\n",
    "- `Type`: nominal, ordinal or numeric\n",
    "\n",
    "- `Format`: int, float, string, category, date or object"
   ]
  }
 ],
 "metadata": {
  "kernelspec": {
   "display_name": "stats",
   "language": "python",
   "name": "python3"
  },
  "language_info": {
   "name": "python",
   "version": "3.9.15 | packaged by conda-forge | (main, Nov 22 2022, 08:39:05) [MSC v.1929 64 bit (AMD64)]"
  },
  "orig_nbformat": 4,
  "vscode": {
   "interpreter": {
    "hash": "7af3d3ebe222bd5621e9c978a2f165c53919551889f541428f6fce934527c3bd"
   }
  }
 },
 "nbformat": 4,
 "nbformat_minor": 2
}
