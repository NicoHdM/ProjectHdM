{
 "cells": [
  {
   "cell_type": "markdown",
   "metadata": {},
   "source": [
    "# Report"
   ]
  },
  {
   "cell_type": "raw",
   "metadata": {},
   "source": [
    "---\n",
    "title: \"Report\"\n",
    "format:\n",
    "  html:\n",
    "    echo: false\n",
    "    code-line-numbers: true\n",
    "---"
   ]
  },
  {
   "cell_type": "markdown",
   "metadata": {},
   "source": [
    "Gruppe D"
   ]
  },
  {
   "cell_type": "raw",
   "metadata": {},
   "source": []
  },
  {
   "cell_type": "markdown",
   "metadata": {},
   "source": [
    "## Introduction and data"
   ]
  },
  {
   "attachments": {},
   "cell_type": "markdown",
   "metadata": {},
   "source": [
    "> REMOVE THE FOLLOWING TEXT\n",
    "\n",
    "This section includes an introduction to the project motivation, data, and research question.\n",
    "Describe the data and definitions of key variables.\n",
    "\n",
    "Nachdem wir uns einen Überblick über die Datenquellen verschafft haben, sind wir zum Entschluss gekommen, uns die Zensus Daten von 2011 genauer anzuschauen. Die Zensus Daten 2011 enthalten unter anderem Angaben über die Erwerbstätigkeit in Deutschland sowie unterschiedlichste soziodemografische Informationen. \n",
    "\n",
    "Hinsichtlich der Arbeitslosigkeit gibt es diverse Vorurteile und Vermutungen. So wird häufig behauptet, dass der Grossteil der Arbeitslosen Personen mit Migrationshintergrund sind oder ein schlechtes Bildungsniveau vorweisen. \n",
    "\n",
    "Die Bundeszentrale für politische Bildung veröffentlichte im Jahr 2022 hierzu einen Bericht, welcher diese zwei Vermutungen sogar bestätigt (vgl. Arbeitslosenquoten nach Geschlecht und Staatsangehoerigkeit, bpb, 2021), (vgl. Arbeitslosenquoten nach Bildung und Alter, bpb, 2021).\n",
    "Diese Informationen waren für uns Anreiz genug, um diese Zusammenhänge zu untersuchen. \n",
    "\n",
    "Die Fragestellung, welche wir innerhalb dieses Projekts untersuchen, lautet wie folgt: \n",
    "\n",
    "«Gibt es einen Zusammenhang zwischen den soziodemografischen Merkmalen und der Arbeitslosenrate?»\n",
    "\n",
    "\n",
    "It should also include some exploratory data analysis.\n",
    "\n",
    "All of the EDA won't fit in the paper, so focus on the EDA for the response variable and a few other interesting variables and relationships."
   ]
  },
  {
   "cell_type": "markdown",
   "metadata": {},
   "source": [
    "### Import relevanter Module"
   ]
  },
  {
   "cell_type": "code",
   "execution_count": 16,
   "metadata": {},
   "outputs": [],
   "source": [
    "#| echo: true \n",
    "#| code-fold: true\n",
    "#import relevant modulues\n",
    "import pandas as pd\n",
    "import altair as alt\n",
    "import numpy as np\n",
    "from pandas import DataFrame\n",
    "import warnings\n",
    "warnings.simplefilter(action='ignore', category=FutureWarning)\n",
    "\n",
    "alt.data_transformers.disable_max_rows() #aus Code overview Histogramm\n",
    "from scipy import stats # to compute the mode \n",
    "\n",
    "from sklearn.linear_model import LinearRegression #Fitting a line\n",
    "from sklearn.metrics import mean_squared_error\n",
    "from sklearn.model_selection import train_test_split\n",
    "from sklearn.model_selection import cross_val_score\n",
    "from sklearn.metrics import r2_score\n",
    "from sklearn.metrics import mean_squared_error\n",
    "from sklearn.metrics import mean_absolute_error\n",
    "from sklearn.preprocessing import StandardScaler\n",
    "from sklearn.linear_model import LassoCV\n",
    "from sklearn.linear_model import Lasso\n",
    "\n",
    "import matplotlib.pyplot as plt  # To visualize\n",
    "\n",
    "import joblib\n",
    "import time"
   ]
  },
  {
   "cell_type": "code",
   "execution_count": 17,
   "metadata": {},
   "outputs": [],
   "source": [
    "def left_align(df: DataFrame):\n",
    "    left_aligned_df = df.style.set_properties(**{'text-align': 'left'})\n",
    "    left_aligned_df = left_aligned_df.set_table_styles(\n",
    "        [dict(selector='th', props=[('text-align', 'left')])]\n",
    "    )\n",
    "    return left_aligned_df"
   ]
  },
  {
   "cell_type": "markdown",
   "metadata": {},
   "source": [
    "### Import Datensatz"
   ]
  },
  {
   "cell_type": "code",
   "execution_count": 18,
   "metadata": {},
   "outputs": [],
   "source": [
    "#| echo: true\n",
    "#| code-fold: true\n",
    "df_bevoelkerung = pd.read_csv(\n",
    "    '../references/csv_Bevoelkerung/Zensus11_Datensatz_Bevoelkerung.csv',\n",
    "    delimiter=';',\n",
    "    dtype={\n",
    "        'AGS_12': 'category',\n",
    "        'RS_Land': 'category',\n",
    "        'RS_RB_NUTS2': 'category',\n",
    "        'RS_Kreis': 'category',\n",
    "        'RS_VB': 'category',\n",
    "        'RS_Gem': 'category',\n",
    "        'Name': 'category',\n",
    "        'Reg_Hier': 'category'\n",
    "    },\n",
    "    low_memory= False #um Warnung zu verhindern\n",
    ")"
   ]
  },
  {
   "cell_type": "markdown",
   "metadata": {},
   "source": [
    "### Data Structure\n",
    "\n",
    "Um einen ersten groben Überblick zu bekommen, geben wir uns eine Info über unseren Datensatz mit der Pandas-Funktion `pd.info()` aus."
   ]
  },
  {
   "cell_type": "code",
   "execution_count": 19,
   "metadata": {},
   "outputs": [
    {
     "name": "stdout",
     "output_type": "stream",
     "text": [
      "<class 'pandas.core.frame.DataFrame'>\n",
      "RangeIndex: 12544 entries, 0 to 12543\n",
      "Columns: 223 entries, AGS_12 to BIL_5.8\n",
      "dtypes: category(8), float64(41), int64(8), object(166)\n",
      "memory usage: 21.4+ MB\n"
     ]
    }
   ],
   "source": [
    "df_bevoelkerung.info()"
   ]
  },
  {
   "cell_type": "markdown",
   "metadata": {},
   "source": [
    "Hierbei ist zu sehen, dass 166 Spalten als Datentyp `Objekt` haben und somit auf gemischte Datentypen hindeutet. Außerdem sieht man, dass dass manche Variablen nur in 2187 Zeilen gefüllt sind.<br><br>\n",
    "Daher führen wir im nächsten Schritt Daten Korrekturen durch, um saubere Datentypen zu haben."
   ]
  },
  {
   "cell_type": "markdown",
   "metadata": {},
   "source": [
    "## Methodology"
   ]
  },
  {
   "cell_type": "markdown",
   "metadata": {},
   "source": [
    "> REMOVE THE FOLLOWING TEXT\n",
    "\n",
    "This section includes a brief description of your modeling process.\n",
    "\n",
    "Explain the reasoning for the type of model you're fitting, predictor variables considered for the model.\n",
    "\n",
    "Additionally, show how you arrived at the final model by describing the model selection process, variable transformations (if needed), assessment of conditions and diagnostics, and any other relevant considerations that were part of the model fitting process."
   ]
  },
  {
   "cell_type": "markdown",
   "metadata": {},
   "source": [
    "Wie in der Introduction beschrieben haben wir uns aufgrund der Literartur-Recherche wie auch nach Betrachtung des Data Sets für 6 Quoten entschieden, die die Arbeitslosenquote beeinflussen könnten. \n",
    "\n",
    "Wie in der explorativen Analyse zu sehen ist, hat nur die Christenquote eine Korrelation mit der Arbeitslosenquote über 0,5 bzw. unter -0,5. Zwei weitere Quoten, die noch eine moderarte bis schwache Korrelation haben sind die Singlequote sowie die Migrationsquote. Daher wurde bereits an dieser Stelle beschlossen keine weiteren Quoten für die lineare Regression mit in die Auswahl aufzunehmen. Da in den Scatterplot linere Zusammenhänge erkennbar sind, wollen wir diese mit lineran Modellen versuchen zu erklären.\n",
    "\n",
    "Für die multiple Regression wie auch die Lasso-Regression haben wir zunächst alle Variablen als Prädikatoren ausgewählt.\n",
    "\n",
    "Zu Beginn der jeweiligen Modellierungsprozesse haben wir jeweils das Regressionsmodell ausgewählt. Der nächste Schritt war es dann die Modelle zu validieren und an die Daten anzupassen. \n",
    "Die Validierung haben wir mit der Cross-Validation umgesetzt und dabei den Mean Squared error pro Fold angeschaut.\n",
    "Bei der Lasso-Regression war die Cross-Validation implementiert.\n",
    "\n",
    "Daraufhin haben wir mit der Funktion `reg.fit` die Modelle an die Traingsdaten angepasst und somit trainiert und den Intercept mit der y-Achse sowie den beziehungsweise die Koeffizienten berechnet.\n",
    "\n",
    "Der abschließende Schritt war die Evaluierung mit den Test-Daten. Wir haben die Modell dann anhand verschiedener Gütemaße (R^2, MSE, RMSE, MAE) bewertet.\n",
    "\n",
    "Durch die Peer-Review haben wir das Feedback bekommen, dass wir für die Multiple Regression die Stepwise Selection nutzen könnten sowie für die Bewertung der Güte der Lasso-Regression den AIC. \n",
    "\n",
    "Diese grob beschriebenen Schritte wollen wir im Folgenden detaillierter erklären."
   ]
  },
  {
   "cell_type": "markdown",
   "metadata": {},
   "source": [
    "## Results"
   ]
  },
  {
   "cell_type": "markdown",
   "metadata": {},
   "source": [
    "> REMOVE THE FOLLOWING TEXT\n",
    "\n",
    "This is where you will output the final model with any relevant model fit statistics.\n",
    "\n",
    "Describe the key results from the model.\n",
    "The goal is not to interpret every single variable in the model but rather to show that you are proficient in using the model output to address the research questions, using the interpretations to support your conclusions.\n",
    "\n",
    "Focus on the variables that help you answer the research question and that provide relevant context for the reader.\n"
   ]
  },
  {
   "cell_type": "code",
   "execution_count": null,
   "metadata": {},
   "outputs": [],
   "source": []
  },
  {
   "cell_type": "markdown",
   "metadata": {},
   "source": [
    "## Discussion + Conclusion\n"
   ]
  },
  {
   "cell_type": "markdown",
   "metadata": {},
   "source": [
    "> REMOVE THE FOLLOWING TEXT\n",
    "\n",
    "In this section you'll include a summary of what you have learned about your research question along with statistical arguments supporting your conclusions.\n",
    "In addition, discuss the limitations of your analysis and provide suggestions on ways the analysis could be improved.\n",
    "Any potential issues pertaining to the reliability and validity of your data and appropriateness of the statistical analysis should also be discussed here.\n",
    "Lastly, this section will include ideas for future work."
   ]
  },
  {
   "cell_type": "code",
   "execution_count": 20,
   "metadata": {},
   "outputs": [
    {
     "name": "stdout",
     "output_type": "stream",
     "text": [
      "<class 'pandas.core.frame.DataFrame'>\n",
      "RangeIndex: 12544 entries, 0 to 12543\n",
      "Data columns (total 223 columns):\n",
      " #    Column       Non-Null Count  Dtype   \n",
      "---   ------       --------------  -----   \n",
      " 0    AGS_12       12544 non-null  category\n",
      " 1    RS_Land      12544 non-null  category\n",
      " 2    RS_RB_NUTS2  12527 non-null  category\n",
      " 3    RS_Kreis     12501 non-null  category\n",
      " 4    RS_VB        12089 non-null  category\n",
      " 5    RS_Gem       11339 non-null  category\n",
      " 6    Name         12544 non-null  category\n",
      " 7    Reg_Hier     12544 non-null  category\n",
      " 8    AEWZ         12544 non-null  int64   \n",
      " 9    DEM_1.1      12544 non-null  int64   \n",
      " 10   DEM_1.2      12544 non-null  object  \n",
      " 11   DEM_1.3      12544 non-null  object  \n",
      " 12   DEM_2.1      12544 non-null  int64   \n",
      " 13   DEM_2.2      12544 non-null  object  \n",
      " 14   DEM_2.3      12544 non-null  object  \n",
      " 15   DEM_2.4      12544 non-null  object  \n",
      " 16   DEM_2.5      12544 non-null  object  \n",
      " 17   DEM_2.6      12544 non-null  object  \n",
      " 18   DEM_2.7      12544 non-null  object  \n",
      " 19   DEM_2.8      12544 non-null  object  \n",
      " 20   DEM_2.9      12544 non-null  object  \n",
      " 21   DEM_2.10     12544 non-null  object  \n",
      " 22   DEM_2.11     12544 non-null  object  \n",
      " 23   DEM_2.12     12544 non-null  object  \n",
      " 24   DEM_2.13     12544 non-null  object  \n",
      " 25   DEM_2.14     12544 non-null  object  \n",
      " 26   DEM_2.15     12544 non-null  object  \n",
      " 27   DEM_2.16     12544 non-null  object  \n",
      " 28   DEM_2.17     12544 non-null  object  \n",
      " 29   DEM_2.18     12544 non-null  object  \n",
      " 30   DEM_2.19     12544 non-null  object  \n",
      " 31   DEM_2.20     12544 non-null  object  \n",
      " 32   DEM_2.21     12544 non-null  object  \n",
      " 33   DEM_2.22     12544 non-null  object  \n",
      " 34   DEM_2.23     12544 non-null  object  \n",
      " 35   DEM_2.24     12544 non-null  object  \n",
      " 36   DEM_2.25     12544 non-null  object  \n",
      " 37   DEM_2.26     12544 non-null  object  \n",
      " 38   DEM_2.27     12544 non-null  object  \n",
      " 39   DEM_3.1      12544 non-null  int64   \n",
      " 40   DEM_3.2      12544 non-null  object  \n",
      " 41   DEM_3.3      12544 non-null  object  \n",
      " 42   DEM_3.4      12544 non-null  object  \n",
      " 43   DEM_3.5      12544 non-null  object  \n",
      " 44   DEM_3.6      12544 non-null  object  \n",
      " 45   DEM_3.7      12544 non-null  object  \n",
      " 46   DEM_3.8      12544 non-null  object  \n",
      " 47   DEM_3.9      12544 non-null  object  \n",
      " 48   DEM_3.10     12544 non-null  object  \n",
      " 49   DEM_3.11     12544 non-null  object  \n",
      " 50   DEM_3.12     12544 non-null  object  \n",
      " 51   DEM_3.13     12544 non-null  object  \n",
      " 52   DEM_3.14     12544 non-null  object  \n",
      " 53   DEM_3.15     12544 non-null  object  \n",
      " 54   DEM_3.16     12544 non-null  object  \n",
      " 55   DEM_3.17     12544 non-null  object  \n",
      " 56   DEM_3.18     12544 non-null  object  \n",
      " 57   DEM_3.19     12544 non-null  object  \n",
      " 58   DEM_3.20     12544 non-null  object  \n",
      " 59   DEM_3.21     12544 non-null  object  \n",
      " 60   DEM_3.22     12544 non-null  object  \n",
      " 61   DEM_3.23     12544 non-null  object  \n",
      " 62   DEM_3.24     12544 non-null  object  \n",
      " 63   DEM_3.25     12544 non-null  object  \n",
      " 64   DEM_3.26     12544 non-null  object  \n",
      " 65   DEM_3.27     12544 non-null  object  \n",
      " 66   DEM_3.28     12544 non-null  object  \n",
      " 67   DEM_3.29     12544 non-null  object  \n",
      " 68   DEM_3.30     12544 non-null  object  \n",
      " 69   DEM_4.1      12544 non-null  int64   \n",
      " 70   DEM_4.2      12544 non-null  object  \n",
      " 71   DEM_4.3      12544 non-null  object  \n",
      " 72   DEM_4.4      12544 non-null  object  \n",
      " 73   DEM_4.5      12544 non-null  object  \n",
      " 74   DEM_4.6      12544 non-null  object  \n",
      " 75   DEM_4.7      12544 non-null  object  \n",
      " 76   DEM_4.8      12544 non-null  object  \n",
      " 77   DEM_4.9      12544 non-null  object  \n",
      " 78   DEM_4.10     12544 non-null  object  \n",
      " 79   DEM_4.11     12544 non-null  object  \n",
      " 80   DEM_4.12     12544 non-null  object  \n",
      " 81   DEM_4.13     12544 non-null  object  \n",
      " 82   DEM_4.14     12544 non-null  object  \n",
      " 83   DEM_4.15     12544 non-null  object  \n",
      " 84   DEM_4.16     12544 non-null  object  \n",
      " 85   DEM_4.17     12544 non-null  object  \n",
      " 86   DEM_4.18     12544 non-null  object  \n",
      " 87   DEM_4.19     12544 non-null  object  \n",
      " 88   DEM_4.20     12544 non-null  object  \n",
      " 89   DEM_4.21     12544 non-null  object  \n",
      " 90   DEM_4.22     12544 non-null  object  \n",
      " 91   DEM_4.23     12544 non-null  object  \n",
      " 92   DEM_4.24     12544 non-null  object  \n",
      " 93   DEM_4.25     12544 non-null  object  \n",
      " 94   DEM_4.26     12544 non-null  object  \n",
      " 95   DEM_4.27     12544 non-null  object  \n",
      " 96   DEM_4.28     12544 non-null  object  \n",
      " 97   DEM_4.29     12544 non-null  object  \n",
      " 98   DEM_4.30     12544 non-null  object  \n",
      " 99   DEM_4.31     12544 non-null  object  \n",
      " 100  DEM_4.32     12544 non-null  object  \n",
      " 101  DEM_4.33     12544 non-null  object  \n",
      " 102  DEM_4.34     12544 non-null  object  \n",
      " 103  DEM_4.35     12544 non-null  object  \n",
      " 104  DEM_4.36     12544 non-null  object  \n",
      " 105  DEM_5.1      12544 non-null  int64   \n",
      " 106  DEM_5.2      12544 non-null  object  \n",
      " 107  DEM_5.3      12544 non-null  object  \n",
      " 108  DEM_5.4      12544 non-null  object  \n",
      " 109  DEM_5.5      12544 non-null  object  \n",
      " 110  DEM_5.6      12544 non-null  object  \n",
      " 111  DEM_5.7      12544 non-null  object  \n",
      " 112  DEM_6.1      12544 non-null  int64   \n",
      " 113  DEM_6.2      12544 non-null  object  \n",
      " 114  DEM_6.3      12544 non-null  object  \n",
      " 115  DEM_6.4      12544 non-null  object  \n",
      " 116  DEM_6.5      12544 non-null  object  \n",
      " 117  DEM_6.6      12544 non-null  object  \n",
      " 118  DEM_6.7      12544 non-null  object  \n",
      " 119  REL_1.1      12544 non-null  int64   \n",
      " 120  REL_1.2      12544 non-null  object  \n",
      " 121  REL_1.3      12544 non-null  object  \n",
      " 122  REL_1.4      12544 non-null  object  \n",
      " 123  MIG_1.1      2187 non-null   float64 \n",
      " 124  MIG_1.2      2187 non-null   float64 \n",
      " 125  MIG_1.3      2187 non-null   object  \n",
      " 126  MIG_1.4      2187 non-null   object  \n",
      " 127  MIG_1.5      2187 non-null   object  \n",
      " 128  MIG_1.6      2187 non-null   object  \n",
      " 129  MIG_1.7      2187 non-null   object  \n",
      " 130  MIG_1.8      2187 non-null   object  \n",
      " 131  MIG_1.9      2187 non-null   object  \n",
      " 132  MIG_1.10     2187 non-null   object  \n",
      " 133  MIG_1.11     2187 non-null   object  \n",
      " 134  MIG_2.1      2187 non-null   object  \n",
      " 135  MIG_2.2      2187 non-null   object  \n",
      " 136  MIG_2.3      2187 non-null   object  \n",
      " 137  MIG_2.4      2187 non-null   object  \n",
      " 138  MIG_2.5      2187 non-null   object  \n",
      " 139  MIG_2.6      2187 non-null   object  \n",
      " 140  MIG_2.7      2187 non-null   object  \n",
      " 141  MIG_2.8      2187 non-null   object  \n",
      " 142  MIG_3.1      2187 non-null   object  \n",
      " 143  MIG_3.2      2187 non-null   object  \n",
      " 144  MIG_3.3      2187 non-null   object  \n",
      " 145  MIG_3.4      2187 non-null   object  \n",
      " 146  MIG_3.5      2187 non-null   object  \n",
      " 147  ERW_1.1      2187 non-null   float64 \n",
      " 148  ERW_1.2      2187 non-null   float64 \n",
      " 149  ERW_1.3      2187 non-null   float64 \n",
      " 150  ERW_1.4      2187 non-null   float64 \n",
      " 151  ERW_1.5      2187 non-null   float64 \n",
      " 152  ERW_1.6      2187 non-null   float64 \n",
      " 153  ERW_1.7      2187 non-null   float64 \n",
      " 154  ERW_1.8      2187 non-null   float64 \n",
      " 155  ERW_1.9      2187 non-null   float64 \n",
      " 156  ERW_1.10     2186 non-null   object  \n",
      " 157  ERW_1.11     2187 non-null   object  \n",
      " 158  ERW_1.12     2187 non-null   object  \n",
      " 159  ERW_1.13     2187 non-null   float64 \n",
      " 160  ERW_1.14     2187 non-null   float64 \n",
      " 161  ERW_1.15     2187 non-null   float64 \n",
      " 162  ERW_2.1      2187 non-null   float64 \n",
      " 163  ERW_2.2      2187 non-null   float64 \n",
      " 164  ERW_2.3      2187 non-null   object  \n",
      " 165  ERW_2.4      2187 non-null   object  \n",
      " 166  ERW_2.5      2187 non-null   object  \n",
      " 167  ERW_2.6      2187 non-null   object  \n",
      " 168  ERW_3.1      2187 non-null   float64 \n",
      " 169  ERW_3.2      2187 non-null   object  \n",
      " 170  ERW_3.3      2187 non-null   float64 \n",
      " 171  ERW_3.4      2187 non-null   float64 \n",
      " 172  ERW_3.5      2187 non-null   float64 \n",
      " 173  ERW_3.6      2187 non-null   float64 \n",
      " 174  ERW_3.7      2187 non-null   object  \n",
      " 175  ERW_3.8      2187 non-null   float64 \n",
      " 176  ERW_3.9      2187 non-null   object  \n",
      " 177  ERW_3.10     2187 non-null   object  \n",
      " 178  ERW_3.11     2187 non-null   object  \n",
      " 179  ERW_4.1      2187 non-null   float64 \n",
      " 180  ERW_4.2      2187 non-null   object  \n",
      " 181  ERW_4.3      2187 non-null   object  \n",
      " 182  ERW_4.4      2187 non-null   object  \n",
      " 183  ERW_4.5      2146 non-null   object  \n",
      " 184  ERW_4.6      2187 non-null   object  \n",
      " 185  ERW_4.7      2187 non-null   object  \n",
      " 186  ERW_4.8      2187 non-null   object  \n",
      " 187  ERW_4.9      2183 non-null   object  \n",
      " 188  ERW_4.10     2187 non-null   float64 \n",
      " 189  ERW_4.11     2160 non-null   object  \n",
      " 190  ERW_4.12     2187 non-null   object  \n",
      " 191  ERW_4.13     2185 non-null   object  \n",
      " 192  ERW_4.14     2187 non-null   object  \n",
      " 193  ERW_4.15     2185 non-null   object  \n",
      " 194  BIL_2.1      2187 non-null   float64 \n",
      " 195  BIL_2.2      2187 non-null   float64 \n",
      " 196  BIL_2.3      2187 non-null   float64 \n",
      " 197  BIL_2.4      2187 non-null   object  \n",
      " 198  BIL_3.1      2187 non-null   float64 \n",
      " 199  BIL_3.2      2187 non-null   float64 \n",
      " 200  BIL_3.3      2187 non-null   object  \n",
      " 201  BIL_3.4      2187 non-null   object  \n",
      " 202  BIL_3.5      2187 non-null   object  \n",
      " 203  BIL_3.6      2187 non-null   object  \n",
      " 204  BIL_3.7      2187 non-null   object  \n",
      " 205  BIL_4.1      2187 non-null   float64 \n",
      " 206  BIL_4.2      2187 non-null   float64 \n",
      " 207  BIL_4.3      2187 non-null   object  \n",
      " 208  BIL_4.4      2187 non-null   object  \n",
      " 209  BIL_4.5      2187 non-null   float64 \n",
      " 210  BIL_4.6      2187 non-null   float64 \n",
      " 211  BIL_4.7      2187 non-null   float64 \n",
      " 212  BIL_4.8      2187 non-null   object  \n",
      " 213  BIL_4.9      2187 non-null   float64 \n",
      " 214  BIL_4.10     2187 non-null   float64 \n",
      " 215  BIL_5.1      2187 non-null   float64 \n",
      " 216  BIL_5.2      2187 non-null   float64 \n",
      " 217  BIL_5.3      2187 non-null   float64 \n",
      " 218  BIL_5.4      2187 non-null   float64 \n",
      " 219  BIL_5.5      2187 non-null   object  \n",
      " 220  BIL_5.6      2187 non-null   float64 \n",
      " 221  BIL_5.7      2187 non-null   object  \n",
      " 222  BIL_5.8      2187 non-null   object  \n",
      "dtypes: category(8), float64(41), int64(8), object(166)\n",
      "memory usage: 21.4+ MB\n"
     ]
    }
   ],
   "source": [
    "df_bevoelkerung.info(verbose = True, show_counts=True)"
   ]
  }
 ],
 "metadata": {
  "kernelspec": {
   "display_name": "stats",
   "language": "python",
   "name": "python3"
  },
  "language_info": {
   "codemirror_mode": {
    "name": "ipython",
    "version": 3
   },
   "file_extension": ".py",
   "mimetype": "text/x-python",
   "name": "python",
   "nbconvert_exporter": "python",
   "pygments_lexer": "ipython3",
   "version": "3.9.15 | packaged by conda-forge | (main, Nov 22 2022, 08:39:05) [MSC v.1929 64 bit (AMD64)]"
  },
  "orig_nbformat": 4,
  "vscode": {
   "interpreter": {
    "hash": "7af3d3ebe222bd5621e9c978a2f165c53919551889f541428f6fce934527c3bd"
   }
  }
 },
 "nbformat": 4,
 "nbformat_minor": 2
}
