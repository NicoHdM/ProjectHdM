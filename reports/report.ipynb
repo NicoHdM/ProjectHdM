{
 "cells": [
  {
   "cell_type": "markdown",
   "metadata": {},
   "source": [
    "# Report"
   ]
  },
  {
   "cell_type": "markdown",
   "metadata": {},
   "source": [
    "Gruppe D"
   ]
  },
  {
   "cell_type": "markdown",
   "metadata": {},
   "source": [
    "## Introduction and data"
   ]
  },
  {
   "cell_type": "markdown",
   "metadata": {},
   "source": [
    "> REMOVE THE FOLLOWING TEXT\n",
    "\n",
    "This section includes an introduction to the project motivation, data, and research question.\n",
    "Describe the data and definitions of key variables.\n",
    "\n",
    "It should also include some exploratory data analysis.\n",
    "\n",
    "All of the EDA won't fit in the paper, so focus on the EDA for the response variable and a few other interesting variables and relationships."
   ]
  },
  {
   "cell_type": "code",
   "execution_count": null,
   "metadata": {},
   "outputs": [],
   "source": []
  },
  {
   "cell_type": "markdown",
   "metadata": {},
   "source": [
    "## Methodology"
   ]
  },
  {
   "cell_type": "markdown",
   "metadata": {},
   "source": [
    "> REMOVE THE FOLLOWING TEXT\n",
    "\n",
    "This section includes a brief description of your modeling process.\n",
    "\n",
    "Explain the reasoning for the type of model you're fitting, predictor variables considered for the model.\n",
    "\n",
    "Additionally, show how you arrived at the final model by describing the model selection process, variable transformations (if needed), assessment of conditions and diagnostics, and any other relevant considerations that were part of the model fitting process."
   ]
  },
  {
   "cell_type": "markdown",
   "metadata": {},
   "source": [
    "Wie in der Introduction beschrieben haben wir uns aufgrund der Literartur-Recherche wie auch nach Betrachtung des Data Sets für 6 Quoten entschieden, die die Arbeitslosenquote beeinflussen könnten. \n",
    "\n",
    "Wie in der explorativen Analyse zu sehen ist, hat nur die Christenquote eine Korrelation mit der Arbeitslosenquote über 0,5 bzw. unter -0,5. Zwei weitere Quoten, die noch eine moderarte bis schwache Korrelation haben sind die Singlequote sowie die Migrationsquote. Daher wurde bereits an dieser Stelle beschlossen keine weiteren Quoten für die lineare Regression mit in die Auswahl aufzunehmen. Da in den Scatterplot linere Zusammenhänge erkennbar sind, wollen wir diese mit lineran Modellen versuchen zu erklären.\n",
    "\n",
    "Für die multiple Regression wie auch die Lasso-Regression haben wir zunächst alle Variablen als Prädikatoren ausgewählt.\n",
    "\n",
    "Zu Beginn der jeweiligen Modellierungsprozesse haben wir jeweils das Regressionsmodell ausgewählt. Der nächste Schritt war es dann die Modelle zu validieren und an die Daten anzupassen. \n",
    "Die Validierung haben wir mit der Cross-Validation umgesetzt und dabei den Mean Squared error pro Fold angeschaut.\n",
    "Bei der Lasso-Regression war die Cross-Validation implementiert.\n",
    "\n",
    "Daraufhin haben wir mit der Funktion `reg.fit` die Modelle an die Traingsdaten angepasst und somit trainiert und den Intercept mit der y-Achse sowie den beziehungsweise die Koeffizienten berechnet.\n",
    "\n",
    "Der abschließende Schritt war die Evaluierung mit den Test-Daten. Wir haben die Modell dann anhand verschiedener Gütemaße (R^2, MSE, RMSE, MAE) bewertet.\n",
    "\n",
    "Durch die Peer-Review haben wir das Feedback bekommen, dass wir für die Multiple Regression die Stepwise Selection nutzen könnten sowie für die Bewertung der Güte der Lasso-Regression den AIC. \n",
    "\n",
    "Diese grob beschriebenen Schritte wollen wir im Folgenden detaillierter erklären."
   ]
  },
  {
   "cell_type": "markdown",
   "metadata": {},
   "source": [
    "## Results"
   ]
  },
  {
   "cell_type": "markdown",
   "metadata": {},
   "source": [
    "> REMOVE THE FOLLOWING TEXT\n",
    "\n",
    "This is where you will output the final model with any relevant model fit statistics.\n",
    "\n",
    "Describe the key results from the model.\n",
    "The goal is not to interpret every single variable in the model but rather to show that you are proficient in using the model output to address the research questions, using the interpretations to support your conclusions.\n",
    "\n",
    "Focus on the variables that help you answer the research question and that provide relevant context for the reader.\n"
   ]
  },
  {
   "cell_type": "code",
   "execution_count": null,
   "metadata": {},
   "outputs": [],
   "source": []
  },
  {
   "cell_type": "markdown",
   "metadata": {},
   "source": [
    "## Discussion + Conclusion\n"
   ]
  },
  {
   "cell_type": "markdown",
   "metadata": {},
   "source": [
    "> REMOVE THE FOLLOWING TEXT\n",
    "\n",
    "In this section you'll include a summary of what you have learned about your research question along with statistical arguments supporting your conclusions.\n",
    "In addition, discuss the limitations of your analysis and provide suggestions on ways the analysis could be improved.\n",
    "Any potential issues pertaining to the reliability and validity of your data and appropriateness of the statistical analysis should also be discussed here.\n",
    "Lastly, this section will include ideas for future work."
   ]
  },
  {
   "cell_type": "markdown",
   "metadata": {},
   "source": []
  }
 ],
 "metadata": {
  "kernelspec": {
   "display_name": "Python 3.9.6 64-bit",
   "language": "python",
   "name": "python3"
  },
  "language_info": {
   "name": "python",
   "version": "3.9.6"
  },
  "orig_nbformat": 4,
  "vscode": {
   "interpreter": {
    "hash": "31f2aee4e71d21fbe5cf8b01ff0e069b9275f58929596ceb00d14d90e3e16cd6"
   }
  }
 },
 "nbformat": 4,
 "nbformat_minor": 2
}
